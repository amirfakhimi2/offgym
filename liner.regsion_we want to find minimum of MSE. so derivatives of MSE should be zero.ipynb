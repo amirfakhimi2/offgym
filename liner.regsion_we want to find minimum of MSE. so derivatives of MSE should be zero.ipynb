{
  "nbformat": 4,
  "nbformat_minor": 0,
  "metadata": {
    "colab": {
      "name": "Untitled3.ipynb",
      "provenance": [],
      "authorship_tag": "ABX9TyPd8TWK/TBwkuwgCEYLr8PB",
      "include_colab_link": true
    },
    "kernelspec": {
      "name": "python3",
      "display_name": "Python 3"
    }
  },
  "cells": [
    {
      "cell_type": "markdown",
      "metadata": {
        "id": "view-in-github",
        "colab_type": "text"
      },
      "source": [
        "<a href=\"https://colab.research.google.com/github/amirfakhimi2/offgym/blob/master/liner.regsion_we%20want%20to%20find%20minimum%20of%20MSE.%20so%20derivatives%20of%20MSE%20should%20be%20zero.ipynb\" target=\"_parent\"><img src=\"https://colab.research.google.com/assets/colab-badge.svg\" alt=\"Open In Colab\"/></a>"
      ]
    },
    {
      "cell_type": "markdown",
      "metadata": {
        "id": "IW5OqcsGdeQd",
        "colab_type": "text"
      },
      "source": [
        "baraye farmol gd va tarkib ba mse"
      ]
    },
    {
      "cell_type": "code",
      "metadata": {
        "id": "Tjco6W-QaJrR",
        "colab_type": "code",
        "colab": {}
      },
      "source": [
        "import numpy as np\n",
        "import matplotlib.pyplot as plt\n",
        "%matplotlib inline"
      ],
      "execution_count": null,
      "outputs": []
    },
    {
      "cell_type": "code",
      "metadata": {
        "id": "uQhjYmQcaX-a",
        "colab_type": "code",
        "colab": {}
      },
      "source": [
        "x = np.random.rand(100, 1) * 20\n",
        "y = 2.358 * x - 3.121\n",
        "y = y + np.random.normal(scale=3, size=y.shape)\n",
        "dataset = np.hstack((x, y))"
      ],
      "execution_count": null,
      "outputs": []
    },
    {
      "cell_type": "code",
      "metadata": {
        "id": "DtELx65Lajp-",
        "colab_type": "code",
        "colab": {}
      },
      "source": [
        "\n",
        "X = dataset[:, 0]\n",
        "y = dataset[:, 1]"
      ],
      "execution_count": null,
      "outputs": []
    },
    {
      "cell_type": "code",
      "metadata": {
        "id": "_DNtqZd3amdz",
        "colab_type": "code",
        "colab": {
          "base_uri": "https://localhost:8080/",
          "height": 282
        },
        "outputId": "7e9e24f0-bfec-422d-f13a-d84ff8b34039"
      },
      "source": [
        "plt.plot(X, y, 'bo')"
      ],
      "execution_count": null,
      "outputs": [
        {
          "output_type": "execute_result",
          "data": {
            "text/plain": [
              "[<matplotlib.lines.Line2D at 0x7fda6374bd30>]"
            ]
          },
          "metadata": {
            "tags": []
          },
          "execution_count": 8
        },
        {
          "output_type": "display_data",
          "data": {
            "image/png": "[encoded data removed]",
            "text/plain": [
              "<Figure size 432x288 with 1 Axes>"
            ]
          },
          "metadata": {
            "tags": [],
            "needs_background": "light"
          }
        }
      ]
    },
    {
      "cell_type": "code",
      "metadata": {
        "id": "kkQUA81gdQDd",
        "colab_type": "code",
        "colab": {}
      },
      "source": [
        "class Linear_Regression:\n",
        "    def __init__(self):\n",
        "        self.m = 0\n",
        "        self.b = 0\n",
        "        \n",
        "    def predict(self, x):\n",
        "        # mx + b\n",
        "        return self.m * x + self.b\n",
        "    \n",
        "    def get_MSE_error(self, x, y):\n",
        "        h = self.predict(x)\n",
        "        return np.mean((y - h) ** 2) / 2\n",
        "    \n",
        "    def get_MSE_derivatives(self, x, y):\n",
        "        h = self.predict(x)\n",
        "        return [-np.mean((y - h) * x), -np.mean(y - h)]\n",
        "    \n",
        "    def fit(self, x, y, alpha, itterations):\n",
        "        for i in range(itterations):\n",
        "            der_m, der_b = self.get_MSE_derivatives(x, y)\n",
        "            self.m = self.m - alpha * der_m\n",
        "            self.b = self.b - alpha * der_b"
      ],
      "execution_count": null,
      "outputs": []
    },
    {
      "cell_type": "code",
      "metadata": {
        "id": "6G_vtH7WdRSr",
        "colab_type": "code",
        "colab": {
          "base_uri": "https://localhost:8080/",
          "height": 34
        },
        "outputId": "f5dda191-3baa-4a0c-dbe2-7bb06c8c8066"
      },
      "source": [
        "\n",
        "model = Linear_Regression()\n",
        "model.fit(X, y, 0.01, 100)\n",
        "\n",
        "print('y = {} * x + {}'.format(model.m, model.b))"
      ],
      "execution_count": null,
      "outputs": [
        {
          "output_type": "stream",
          "text": [
            "y = 2.14796937510457 * x + -0.5015369654455557\n"
          ],
          "name": "stdout"
        }
      ]
    },
    {
      "cell_type": "code",
      "metadata": {
        "id": "jwW5JPZYdaFb",
        "colab_type": "code",
        "colab": {
          "base_uri": "https://localhost:8080/",
          "height": 282
        },
        "outputId": "664c807d-e74b-491a-d6b0-1d6f484135a9"
      },
      "source": [
        "x_line = np.array([dataset[:, 0].min() * 0.8, dataset[:, 0].max() * 1.2])\n",
        "y_line = model.m * x_line + model.b\n",
        "\n",
        "plt.plot(x_line, y_line, 'r--')\n",
        "plt.plot(X, y, 'bo')"
      ],
      "execution_count": null,
      "outputs": [
        {
          "output_type": "execute_result",
          "data": {
            "text/plain": [
              "[<matplotlib.lines.Line2D at 0x7fda632039b0>]"
            ]
          },
          "metadata": {
            "tags": []
          },
          "execution_count": 11
        },
        {
          "output_type": "display_data",
          "data": {
            "image/png": "[encoded data removed]",
            "text/plain": [
              "<Figure size 432x288 with 1 Axes>"
            ]
          },
          "metadata": {
            "tags": [],
            "needs_background": "light"
          }
        }
      ]
    }
  ]
}